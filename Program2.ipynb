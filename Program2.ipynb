{
  "nbformat": 4,
  "nbformat_minor": 0,
  "metadata": {
    "colab": {
      "name": "Program2.ipynb",
      "provenance": [],
      "authorship_tag": "ABX9TyNC231b2vQfWsMMq/P4WjUl",
      "include_colab_link": true
    },
    "kernelspec": {
      "name": "python3",
      "display_name": "Python 3"
    },
    "language_info": {
      "name": "python"
    }
  },
  "cells": [
    {
      "cell_type": "markdown",
      "metadata": {
        "id": "view-in-github",
        "colab_type": "text"
      },
      "source": [
        "<a href=\"https://colab.research.google.com/github/pooja-sri-123/Basic-ML/blob/main/Program2.ipynb\" target=\"_parent\"><img src=\"https://colab.research.google.com/assets/colab-badge.svg\" alt=\"Open In Colab\"/></a>"
      ]
    },
    {
      "cell_type": "markdown",
      "metadata": {
        "id": "WdJUKyHMvzQf"
      },
      "source": [
        "**MAXIMUM** **OF** **THREE** **NUMBERS**"
      ]
    },
    {
      "cell_type": "markdown",
      "metadata": {
        "id": "EMgQLBQ_wFA7"
      },
      "source": [
        "In thos program,you'll learn to find the largest among three numbers."
      ]
    },
    {
      "cell_type": "markdown",
      "metadata": {
        "id": "ER9TaLZCwilS"
      },
      "source": [
        "In this program below,the numbers are stored in **a**,**b**,**c** respectively.We have used  **if**....**elif**...**else** ladder to find the largest among the three and display it."
      ]
    },
    {
      "cell_type": "code",
      "metadata": {
        "colab": {
          "base_uri": "https://localhost:8080/"
        },
        "id": "uTOZBuHaxAZx",
        "outputId": "725d5326-3998-4ea4-b0a6-48d429df8e2c"
      },
      "source": [
        "a=int(input())\n",
        "b=int(input())\n",
        "c=int(input())\n",
        "if a>b &a>c:\n",
        "  print(\"a is max\")\n",
        "elif b>c:\n",
        "  print(\"b is max\")\n",
        "else:\n",
        "  print(\"c is max\")"
      ],
      "execution_count": 1,
      "outputs": [
        {
          "output_type": "stream",
          "text": [
            "2\n",
            "7\n",
            "5\n",
            "b is max\n"
          ],
          "name": "stdout"
        }
      ]
    },
    {
      "cell_type": "markdown",
      "metadata": {
        "id": "A29bKLsBxxqI"
      },
      "source": [
        "In this way to test the program change the values of a,b,c. The program executes the maximum number of the three inputs.\n"
      ]
    }
  ]
}