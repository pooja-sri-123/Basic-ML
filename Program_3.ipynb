{
  "nbformat": 4,
  "nbformat_minor": 0,
  "metadata": {
    "colab": {
      "name": "Program 3.ipynb",
      "provenance": [],
      "authorship_tag": "ABX9TyNn1lKiB2ZEoRnmplBm8OHT",
      "include_colab_link": true
    },
    "kernelspec": {
      "name": "python3",
      "display_name": "Python 3"
    },
    "language_info": {
      "name": "python"
    }
  },
  "cells": [
    {
      "cell_type": "markdown",
      "metadata": {
        "id": "view-in-github",
        "colab_type": "text"
      },
      "source": [
        "<a href=\"https://colab.research.google.com/github/pooja-sri-123/Basic-ML/blob/main/Program_3.ipynb\" target=\"_parent\"><img src=\"https://colab.research.google.com/assets/colab-badge.svg\" alt=\"Open In Colab\"/></a>"
      ]
    },
    {
      "cell_type": "markdown",
      "metadata": {
        "id": "DVTRmGjOzTD7"
      },
      "source": [
        "# **Factorial** **of** **the** **number**"
      ]
    },
    {
      "cell_type": "markdown",
      "metadata": {
        "id": "HxEbodd5znx6"
      },
      "source": [
        "The factorial of a number is the product of all the integers from 1 to that number.\n",
        " \n",
        "\n",
        "\n",
        "\n",
        "\n",
        "\n",
        "\n",
        "\n",
        "\n"
      ]
    },
    {
      "cell_type": "markdown",
      "metadata": {
        "id": "SFrSkimn1Ehe"
      },
      "source": [
        "# SOURCE CODE"
      ]
    },
    {
      "cell_type": "code",
      "metadata": {
        "colab": {
          "base_uri": "https://localhost:8080/"
        },
        "id": "HdzDil_B1B9R",
        "outputId": "dc2726c5-38c2-4208-ec22-da08554bf57f"
      },
      "source": [
        "#Python program for factorial of a number.\n",
        "n=int(input()) \n",
        "factorial=1\n",
        "for i in range (1,n+1):\n",
        "  factorial=factorial*i\n",
        "print(factorial)"
      ],
      "execution_count": 6,
      "outputs": [
        {
          "output_type": "stream",
          "text": [
            "6\n",
            "720\n"
          ],
          "name": "stdout"
        }
      ]
    },
    {
      "cell_type": "markdown",
      "metadata": {
        "id": "L6HIZhpa2UzP"
      },
      "source": [
        "Here,the number whose factorial is to be found is stored in **n**.To test the program for a different number,change the values of **n**.\n",
        "If the number is negative,zero or positive using **if**....**elif**...**else** statement.If the number is positive,we use **for** **loop** and for **range**() function to calculate the factorial.\n"
      ]
    }
  ]
}