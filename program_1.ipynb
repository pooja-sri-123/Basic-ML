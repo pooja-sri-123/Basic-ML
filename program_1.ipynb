{
  "nbformat": 4,
  "nbformat_minor": 0,
  "metadata": {
    "colab": {
      "name": "program 1.ipynb",
      "provenance": [],
      "authorship_tag": "ABX9TyOYnrXGGugmf+S0s2ta6nG7",
      "include_colab_link": true
    },
    "kernelspec": {
      "name": "python3",
      "display_name": "Python 3"
    },
    "language_info": {
      "name": "python"
    }
  },
  "cells": [
    {
      "cell_type": "markdown",
      "metadata": {
        "id": "view-in-github",
        "colab_type": "text"
      },
      "source": [
        "<a href=\"https://colab.research.google.com/github/pooja-sri-123/Basic-ML/blob/main/program_1.ipynb\" target=\"_parent\"><img src=\"https://colab.research.google.com/assets/colab-badge.svg\" alt=\"Open In Colab\"/></a>"
      ]
    },
    {
      "cell_type": "markdown",
      "metadata": {
        "id": "8sRfoj73ptI-"
      },
      "source": [
        "**GIVEN NUMBER IS EVEN OR ODD** "
      ]
    },
    {
      "cell_type": "markdown",
      "metadata": {
        "id": "_6WRgtcZqNf6"
      },
      "source": [
        "A number is even if it is perfectly divisible by 2.When the number is divisible by 2,we use the remainder operator \"%\" to compute the remainder.If the remainder is not zero,the number is odd."
      ]
    },
    {
      "cell_type": "markdown",
      "metadata": {
        "id": "faOdkEFurTb_"
      },
      "source": [
        "**source code**"
      ]
    },
    {
      "cell_type": "code",
      "metadata": {
        "colab": {
          "base_uri": "https://localhost:8080/"
        },
        "id": "XNffhTu3rsAA",
        "outputId": "da1acc9e-8336-42c6-bc50-632088234c39"
      },
      "source": [
        "#python program to check the number is even or odd\n",
        "n=int(input())\n",
        "if n%2==0:\n",
        "  print (\"Even\")\n",
        "else:\n",
        "  print(\"Odd\")\n",
        "  "
      ],
      "execution_count": 4,
      "outputs": [
        {
          "output_type": "stream",
          "text": [
            "44\n",
            "Even\n"
          ],
          "name": "stdout"
        }
      ]
    },
    {
      "cell_type": "markdown",
      "metadata": {
        "id": "TMupvZDssrCe"
      },
      "source": [
        "So this program executes the input and check if the number is even or odd."
      ]
    }
  ]
}